{
 "cells": [
  {
   "cell_type": "markdown",
   "metadata": {},
   "source": [
    "# SageMaker Clarify - Get bias metrics and explainations"
   ]
  },
  {
   "cell_type": "code",
   "execution_count": null,
   "metadata": {},
   "outputs": [],
   "source": [
    "import sagemaker\n",
    "\n",
    "sm_version = sagemaker.__version__\n",
    "if sm_version[0] ==\"1\":\n",
    "    !pip install sagemaker==2.5.5\n",
    "    import sagemaker\n",
    "    \n",
    "import os\n",
    "import boto3\n",
    "\n",
    "session = sagemaker.Session()\n",
    "role = sagemaker.get_execution_role()\n",
    "bucket = \"2021-demos\"\n",
    "prefix = \"sagemaker/german-data-xgb\""
   ]
  },
  {
   "cell_type": "markdown",
   "metadata": {},
   "source": [
    "## Get model and endpoint"
   ]
  },
  {
   "cell_type": "code",
   "execution_count": null,
   "metadata": {},
   "outputs": [],
   "source": [
    "xgb_endpoint_name = 'sm-clarify-german-xgb'\n",
    "xgb_model_name = 'xgboost-german-model'\n",
    "aws_region = session.boto_region_name\n",
    "# smclarify_image_uri = f'678264136642.dkr.ecr.{aws_region}.amazonaws.com/sagemaker-xai-analyzer:latest'\n",
    "smclarify_image_uri = f'306415355426.dkr.ecr.us-west-2.amazonaws.com/sagemaker-clarify-processing:1.0'\n",
    "\n",
    "analyzer_instance_count = 1\n",
    "analyzer_instance_type = 'ml.c5.4xlarge'"
   ]
  },
  {
   "cell_type": "code",
   "execution_count": null,
   "metadata": {},
   "outputs": [],
   "source": [
    "xgb_model_desc = session.sagemaker_client.describe_model(ModelName=xgb_model_name)"
   ]
  },
  {
   "cell_type": "markdown",
   "metadata": {},
   "source": [
    "## Prepare the dataset"
   ]
  },
  {
   "cell_type": "code",
   "execution_count": null,
   "metadata": {},
   "outputs": [],
   "source": [
    "from io import StringIO\n",
    "import numpy as np\n",
    "import pandas as pd\n",
    "\n",
    "train_data_s3_path = 's3://{}/{}/train/train_data.csv'.format(bucket, prefix)\n",
    "train_data = sagemaker.s3.S3Downloader.read_file(train_data_s3_path)\n",
    "\n",
    "X = sagemaker.s3.S3Downloader.read_file('s3://{}/{}/preprocessed_data/X.csv'.format(bucket, prefix))\n",
    "y = sagemaker.s3.S3Downloader.read_file('s3://{}/{}/preprocessed_data/y.csv'.format(bucket, prefix))\n",
    "\n",
    "train_data = pd.read_csv(StringIO(train_data), header=None, sep=',')\n",
    "X = pd.read_csv(StringIO(X), header=None, sep=',')\n",
    "y = pd.read_csv(StringIO(y), header=None, sep=',', squeeze=True)"
   ]
  },
  {
   "cell_type": "markdown",
   "metadata": {},
   "source": [
    "## Clarify analysis"
   ]
  },
  {
   "cell_type": "code",
   "execution_count": null,
   "metadata": {},
   "outputs": [],
   "source": [
    "from sagemaker.processing import Processor, ProcessingInput, ProcessingJob, ProcessingOutput\n",
    "\n",
    "xai_analyzer = Processor(base_job_name = 'sm-clarify-analysis',\n",
    "                         image_uri=smclarify_image_uri,\n",
    "                         role=role,\n",
    "                         instance_count=analyzer_instance_count,\n",
    "                         instance_type=analyzer_instance_type,\n",
    "                         max_runtime_in_seconds=1200,\n",
    "                         volume_size_in_gb=100                         \n",
    "                        )"
   ]
  },
  {
   "cell_type": "markdown",
   "metadata": {},
   "source": [
    "## Specify config and data inputs"
   ]
  },
  {
   "cell_type": "code",
   "execution_count": null,
   "metadata": {},
   "outputs": [],
   "source": [
    "analysis_config_path = session.upload_data(path='analysis_config.json', key_prefix=prefix + \"/config\")\n",
    "print('Config uploaded to: ' + analysis_config_path )\n",
    "config_input = ProcessingInput(\n",
    "                input_name=\"analysis_config\",\n",
    "                source=analysis_config_path,\n",
    "                destination=\"/opt/ml/processing/input/config\",\n",
    "                s3_data_type=\"S3Prefix\",\n",
    "                s3_input_mode=\"File\",\n",
    "                s3_compression_type=\"None\")\n",
    "data_input = ProcessingInput(\n",
    "                input_name=\"dataset\",\n",
    "                source=train_data_s3_path,\n",
    "                destination=\"/opt/ml/processing/input/data\",\n",
    "                s3_data_type=\"S3Prefix\",\n",
    "                s3_input_mode=\"File\",\n",
    "                s3_compression_type=\"None\")"
   ]
  },
  {
   "cell_type": "markdown",
   "metadata": {},
   "source": [
    "## Specify output"
   ]
  },
  {
   "cell_type": "code",
   "execution_count": null,
   "metadata": {},
   "outputs": [],
   "source": [
    "analysis_result_path = 's3://{}/{}/{}'.format(bucket, prefix, 'german_analysis_result')\n",
    "result_output = ProcessingOutput(\n",
    "                    source='/opt/ml/processing/output',\n",
    "                    destination=analysis_result_path,\n",
    "                    output_name=\"analysis_result\",\n",
    "                    s3_upload_mode=\"EndOfJob\"\n",
    "                )"
   ]
  },
  {
   "cell_type": "code",
   "execution_count": null,
   "metadata": {},
   "outputs": [],
   "source": [
    "xai_analyzer.run( inputs=[data_input,config_input], outputs=[result_output], wait=True)"
   ]
  },
  {
   "cell_type": "markdown",
   "metadata": {},
   "source": [
    "## Inspect results"
   ]
  },
  {
   "cell_type": "code",
   "execution_count": null,
   "metadata": {},
   "outputs": [],
   "source": [
    "import json\n",
    "\n",
    "analysis_result_json = sagemaker.s3.S3Downloader.read_file(analysis_result_path + '/analysis.json')\n",
    "analysis_result = json.loads(analysis_result_json)\n",
    "print(analysis_result, indent=1)"
   ]
  }
 ],
 "metadata": {
  "instance_type": "ml.t3.medium",
  "kernelspec": {
   "display_name": "Python 3 (Data Science)",
   "language": "python",
   "name": "python3__SAGEMAKER_INTERNAL__arn:aws:sagemaker:us-west-2:236514542706:image/datascience-1.0"
  },
  "language_info": {
   "codemirror_mode": {
    "name": "ipython",
    "version": 3
   },
   "file_extension": ".py",
   "mimetype": "text/x-python",
   "name": "python",
   "nbconvert_exporter": "python",
   "pygments_lexer": "ipython3",
   "version": "3.7.6"
  }
 },
 "nbformat": 4,
 "nbformat_minor": 4
}
